{
 "cells": [
  {
   "cell_type": "code",
   "execution_count": 1,
   "metadata": {},
   "outputs": [],
   "source": [
    "import pandas as pd\n",
    "import matplotlib.pyplot as plt\n",
    "from functions.data import preprocess, filter_df"
   ]
  },
  {
   "cell_type": "code",
   "execution_count": 2,
   "metadata": {},
   "outputs": [],
   "source": [
    "save=True"
   ]
  },
  {
   "cell_type": "markdown",
   "metadata": {},
   "source": [
    "# Get Data"
   ]
  },
  {
   "cell_type": "code",
   "execution_count": 3,
   "metadata": {},
   "outputs": [
    {
     "data": {
      "text/html": [
       "<div>\n",
       "<style scoped>\n",
       "    .dataframe tbody tr th:only-of-type {\n",
       "        vertical-align: middle;\n",
       "    }\n",
       "\n",
       "    .dataframe tbody tr th {\n",
       "        vertical-align: top;\n",
       "    }\n",
       "\n",
       "    .dataframe thead th {\n",
       "        text-align: right;\n",
       "    }\n",
       "</style>\n",
       "<table border=\"1\" class=\"dataframe\">\n",
       "  <thead>\n",
       "    <tr style=\"text-align: right;\">\n",
       "      <th></th>\n",
       "      <th>Institution</th>\n",
       "      <th>Subject</th>\n",
       "      <th>Degree type and admission semester</th>\n",
       "      <th>Accept or reject</th>\n",
       "      <th>Method of communication</th>\n",
       "      <th>Date</th>\n",
       "      <th>GPA</th>\n",
       "      <th>GRE Verbal</th>\n",
       "      <th>GRE Quantitative</th>\n",
       "      <th>GRE Writing</th>\n",
       "      <th>GRE Subject</th>\n",
       "      <th>Student classification</th>\n",
       "      <th>Date posted</th>\n",
       "      <th>Comments</th>\n",
       "    </tr>\n",
       "  </thead>\n",
       "  <tbody>\n",
       "    <tr>\n",
       "      <th>0</th>\n",
       "      <td>EPFL, ETH, Geneve</td>\n",
       "      <td>Physics</td>\n",
       "      <td>PhD (F19)</td>\n",
       "      <td>Other</td>\n",
       "      <td>Other</td>\n",
       "      <td>30 Mar 2019</td>\n",
       "      <td>NaN</td>\n",
       "      <td>NaN</td>\n",
       "      <td>NaN</td>\n",
       "      <td>NaN</td>\n",
       "      <td>NaN</td>\n",
       "      <td>A</td>\n",
       "      <td>30 Mar 2019</td>\n",
       "      <td>TTPB: The interview was with all three (Gaberd...</td>\n",
       "    </tr>\n",
       "    <tr>\n",
       "      <th>1</th>\n",
       "      <td>Northwestern University</td>\n",
       "      <td>Physics</td>\n",
       "      <td>PhD (F19)</td>\n",
       "      <td>Accepted</td>\n",
       "      <td>E-mail</td>\n",
       "      <td>29 Mar 2019</td>\n",
       "      <td>3.77</td>\n",
       "      <td>154.0</td>\n",
       "      <td>167.0</td>\n",
       "      <td>3.0</td>\n",
       "      <td>880.0</td>\n",
       "      <td>U</td>\n",
       "      <td>29 Mar 2019</td>\n",
       "      <td>Finally</td>\n",
       "    </tr>\n",
       "    <tr>\n",
       "      <th>2</th>\n",
       "      <td>University Of Notre Dame</td>\n",
       "      <td>Physics</td>\n",
       "      <td>PhD (F19)</td>\n",
       "      <td>Wait listed</td>\n",
       "      <td>E-mail</td>\n",
       "      <td>29 Mar 2019</td>\n",
       "      <td>NaN</td>\n",
       "      <td>NaN</td>\n",
       "      <td>NaN</td>\n",
       "      <td>NaN</td>\n",
       "      <td>NaN</td>\n",
       "      <td>A</td>\n",
       "      <td>29 Mar 2019</td>\n",
       "      <td>NaN</td>\n",
       "    </tr>\n",
       "    <tr>\n",
       "      <th>3</th>\n",
       "      <td>Boston University</td>\n",
       "      <td>Physics</td>\n",
       "      <td>PhD (F19)</td>\n",
       "      <td>Rejected</td>\n",
       "      <td>E-mail</td>\n",
       "      <td>29 Mar 2019</td>\n",
       "      <td>NaN</td>\n",
       "      <td>NaN</td>\n",
       "      <td>NaN</td>\n",
       "      <td>NaN</td>\n",
       "      <td>NaN</td>\n",
       "      <td>I</td>\n",
       "      <td>29 Mar 2019</td>\n",
       "      <td>Finally BU result has come. Disappointed. Glad...</td>\n",
       "    </tr>\n",
       "    <tr>\n",
       "      <th>4</th>\n",
       "      <td>University Of California, Riverside</td>\n",
       "      <td>Physics</td>\n",
       "      <td>PhD (F19)</td>\n",
       "      <td>Rejected</td>\n",
       "      <td>E-mail</td>\n",
       "      <td>29 Mar 2019</td>\n",
       "      <td>3.63</td>\n",
       "      <td>156.0</td>\n",
       "      <td>163.0</td>\n",
       "      <td>4.0</td>\n",
       "      <td>570.0</td>\n",
       "      <td>A</td>\n",
       "      <td>29 Mar 2019</td>\n",
       "      <td>TTPB: lol I emailed the same person you did ju...</td>\n",
       "    </tr>\n",
       "  </tbody>\n",
       "</table>\n",
       "</div>"
      ],
      "text/plain": [
       "                           Institution  Subject  \\\n",
       "0                    EPFL, ETH, Geneve  Physics   \n",
       "1              Northwestern University  Physics   \n",
       "2             University Of Notre Dame  Physics   \n",
       "3                    Boston University  Physics   \n",
       "4  University Of California, Riverside  Physics   \n",
       "\n",
       "  Degree type and admission semester Accept or reject Method of communication  \\\n",
       "0                          PhD (F19)            Other                   Other   \n",
       "1                          PhD (F19)         Accepted                  E-mail   \n",
       "2                          PhD (F19)      Wait listed                  E-mail   \n",
       "3                          PhD (F19)         Rejected                  E-mail   \n",
       "4                          PhD (F19)         Rejected                  E-mail   \n",
       "\n",
       "          Date     GPA  GRE Verbal  GRE Quantitative  GRE Writing  \\\n",
       "0  30 Mar 2019     NaN         NaN               NaN          NaN   \n",
       "1  29 Mar 2019    3.77       154.0             167.0          3.0   \n",
       "2  29 Mar 2019     NaN         NaN               NaN          NaN   \n",
       "3  29 Mar 2019     NaN         NaN               NaN          NaN   \n",
       "4  29 Mar 2019    3.63       156.0             163.0          4.0   \n",
       "\n",
       "   GRE Subject Student classification  Date posted  \\\n",
       "0          NaN                      A  30 Mar 2019   \n",
       "1        880.0                      U  29 Mar 2019   \n",
       "2          NaN                      A  29 Mar 2019   \n",
       "3          NaN                      I  29 Mar 2019   \n",
       "4        570.0                      A  29 Mar 2019   \n",
       "\n",
       "                                            Comments  \n",
       "0  TTPB: The interview was with all three (Gaberd...  \n",
       "1                                            Finally  \n",
       "2                                                NaN  \n",
       "3  Finally BU result has come. Disappointed. Glad...  \n",
       "4  TTPB: lol I emailed the same person you did ju...  "
      ]
     },
     "execution_count": 3,
     "metadata": {},
     "output_type": "execute_result"
    }
   ],
   "source": [
    "df = pd.read_csv(\n",
    "    \"data/downloads/Physics.csv\", header=None, encoding='latin1',\n",
    "    names=['Institution', 'Subject', 'Degree type and admission semester',\n",
    "           'Accept or reject', 'Method of communication', 'Date', 'GPA',\n",
    "           'GRE Verbal', 'GRE Quantitative', 'GRE Writing', 'GRE Subject',\n",
    "           'Student classification', 'Date posted', 'Comments'\n",
    "    ])\n",
    "\n",
    "df.head()"
   ]
  },
  {
   "cell_type": "markdown",
   "metadata": {},
   "source": [
    "# Clean Data"
   ]
  },
  {
   "cell_type": "code",
   "execution_count": 4,
   "metadata": {},
   "outputs": [],
   "source": [
    "df = df.reset_index().rename(columns={'index': 'id_'})\n",
    "df = preprocess(df)\n",
    "df = filter_df(df)"
   ]
  },
  {
   "cell_type": "code",
   "execution_count": 5,
   "metadata": {},
   "outputs": [
    {
     "data": {
      "text/plain": [
       "4934"
      ]
     },
     "execution_count": 5,
     "metadata": {},
     "output_type": "execute_result"
    }
   ],
   "source": [
    "len(df)"
   ]
  },
  {
   "cell_type": "code",
   "execution_count": 6,
   "metadata": {},
   "outputs": [],
   "source": [
    "if save:\n",
    "    df = df[(df[\"degree_type_and_admission_semester\"].isin([\n",
    "        \"PhD (F19)\",\n",
    "        \"PhD (F18)\",\n",
    "        \"PhD (F17)\",\n",
    "        \"PhD (F16)\",\n",
    "        \"PhD (F15)\",\n",
    "        \"PhD (F14)\",\n",
    "    ]))].to_csv(\"data/physics.csv\", index=None)  # filter out F12 and F13"
   ]
  },
  {
   "cell_type": "markdown",
   "metadata": {},
   "source": [
    "# Plot Entries by Year"
   ]
  },
  {
   "cell_type": "code",
   "execution_count": 9,
   "metadata": {},
   "outputs": [],
   "source": [
    "year_list = [2012, 2013, 2014, 2015, 2016, 2017, 2018, 2019]\n",
    "count_array = (\n",
    "    df[df[\"degree_type_and_admission_semester\"].isin([\n",
    "        \"PhD (F19)\",\n",
    "        \"PhD (F18)\",\n",
    "        \"PhD (F17)\",\n",
    "        \"PhD (F16)\",\n",
    "        \"PhD (F15)\",\n",
    "        \"PhD (F14)\",\n",
    "        \"PhD (F13)\",\n",
    "        \"PhD (F12)\",\n",
    "    ])][\"degree_type_and_admission_semester\"].value_counts().sort_index(\n",
    "        ascending=True).values)"
   ]
  },
  {
   "cell_type": "code",
   "execution_count": 14,
   "metadata": {},
   "outputs": [
    {
     "data": {
      "image/png": "[encoded data removed]",
      "text/plain": [
       "<Figure size 480x320 with 1 Axes>"
      ]
     },
     "metadata": {
      "needs_background": "light"
     },
     "output_type": "display_data"
    }
   ],
   "source": [
    "# Number of entries per year\n",
    "plt.figure(dpi=80)\n",
    "plt.plot(year_list, count_array)\n",
    "plt.ylim(0, 1000)\n",
    "plt.xlabel('Year', fontsize=12)\n",
    "plt.ylabel('Number of Entries', fontsize=12)\n",
    "plt.title('Number of Entries per Year', fontsize=16)\n",
    "if save:\n",
    "    plt.savefig('figures/eda/number-of-entries-per-year.png')"
   ]
  },
  {
   "cell_type": "code",
   "execution_count": null,
   "metadata": {},
   "outputs": [],
   "source": []
  }
 ],
 "metadata": {
  "kernelspec": {
   "display_name": "Python 3",
   "language": "python",
   "name": "python3"
  },
  "language_info": {
   "codemirror_mode": {
    "name": "ipython",
    "version": 3
   },
   "file_extension": ".py",
   "mimetype": "text/x-python",
   "name": "python",
   "nbconvert_exporter": "python",
   "pygments_lexer": "ipython3",
   "version": "3.7.6"
  }
 },
 "nbformat": 4,
 "nbformat_minor": 2
}
