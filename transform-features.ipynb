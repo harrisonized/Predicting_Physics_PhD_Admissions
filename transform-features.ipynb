{
 "cells": [
  {
   "cell_type": "code",
   "execution_count": 1,
   "metadata": {},
   "outputs": [],
   "source": [
    "import pandas as pd\n",
    "from functions.features import add_rev, add_log, add_square, add_percentile, add_products"
   ]
  },
  {
   "cell_type": "code",
   "execution_count": 2,
   "metadata": {},
   "outputs": [],
   "source": [
    "save=True"
   ]
  },
  {
   "cell_type": "markdown",
   "metadata": {},
   "source": [
    "# Get Data"
   ]
  },
  {
   "cell_type": "code",
   "execution_count": 3,
   "metadata": {},
   "outputs": [],
   "source": [
    "df = pd.read_csv(\"data/physics.csv\")"
   ]
  },
  {
   "cell_type": "markdown",
   "metadata": {},
   "source": [
    "# Transform Features"
   ]
  },
  {
   "cell_type": "code",
   "execution_count": 4,
   "metadata": {
    "scrolled": true
   },
   "outputs": [],
   "source": [
    "# Add features\n",
    "df = add_rev(df)\n",
    "df = add_log(df)\n",
    "df = add_square(df)\n",
    "df = add_percentile(df)\n",
    "df = add_products(df)\n",
    "\n",
    "if save:\n",
    "    df = df[['id_',\n",
    "             'gpa_rev', 'gre_verbal_rev', 'gre_quantitative_rev', 'gre_writing_rev', 'gre_subject_rev', 'decision_rev',\n",
    "             'gpa_log', 'gre_verbal_log', 'gre_quantitative_log', 'gre_writing_log', 'gre_subject_log',\n",
    "             'gpa_sq', 'gre_verbal_sq', 'gre_quantitative_sq', 'gre_writing_sq', 'gre_subject_sq', \n",
    "             'gre_verbal_pctl', 'gre_quantitative_pctl', 'gre_writing_pctl', 'gre_subject_pctl', \n",
    "             'grev_x_greq', 'grev_x_gres', 'greq_x_gres', 'grev_x_greq_x_gres'\n",
    "    ]].to_csv('data/physics-transforms.csv', index=None)"
   ]
  },
  {
   "cell_type": "code",
   "execution_count": null,
   "metadata": {},
   "outputs": [],
   "source": []
  }
 ],
 "metadata": {
  "kernelspec": {
   "display_name": "Python 3",
   "language": "python",
   "name": "python3"
  },
  "language_info": {
   "codemirror_mode": {
    "name": "ipython",
    "version": 3
   },
   "file_extension": ".py",
   "mimetype": "text/x-python",
   "name": "python",
   "nbconvert_exporter": "python",
   "pygments_lexer": "ipython3",
   "version": "3.7.6"
  }
 },
 "nbformat": 4,
 "nbformat_minor": 2
}