{
 "cells": [
  {
   "cell_type": "code",
   "execution_count": 1,
   "metadata": {},
   "outputs": [],
   "source": [
    "import numpy as np\n",
    "import pandas as pd\n",
    "import matplotlib.pyplot as plt\n",
    "import seaborn as sns\n",
    "import math\n",
    "from collections import Counter\n",
    "import warnings # Turn off warnings\n",
    "warnings.filterwarnings('ignore')"
   ]
  },
  {
   "cell_type": "code",
   "execution_count": 2,
   "metadata": {},
   "outputs": [],
   "source": [
    "# Import\n",
    "physics_df = pd.read_csv(\"gradcafe-admissions-data/Physics.csv\", names = ['Institution', 'Subject', 'Degree type and admission semester', 'Accept or reject', 'Method of communication', 'Date', 'GPA', 'GRE Verbal', 'GRE Quantitative', 'GRE Writing', 'GRE Subject', 'Student classification', 'Date posted', 'Comments'], encoding='latin1')"
   ]
  },
  {
   "cell_type": "code",
   "execution_count": 3,
   "metadata": {},
   "outputs": [],
   "source": [
    "#Formatting\n",
    "physics_df.columns = physics_df.columns.str.replace(' ', '_')\n",
    "\n",
    "# Add American as a one-hot-encoded feature\n",
    "physics_df['American'] = physics_df['Student_classification']\n",
    "physics_df.American = physics_df.American.replace('A', 1).replace(['U', 'I', 'O'], 0)\n",
    "physics_df = physics_df.dropna(subset=['American'])\n",
    "\n",
    "# Add Papers as feature\n",
    "physics_df['Papers'] = physics_df['Comments'].str.contains('(?<!no) [Pp]ub|(?<!no) [Pp]aper', regex=True)\n",
    "physics_df.Papers = physics_df.Papers.replace(True, 1).replace(False, 0).fillna(value=0)\n",
    "\n",
    "# Add RI as feature\n",
    "physics_df['Research'] = physics_df['Comments'].str.contains('(?<!no) [Rr]esearch', regex=True)\n",
    "physics_df.Research = physics_df.Research.replace(True, 1).replace(False, 0).fillna(value=0)\n",
    "\n",
    "# Create categorical decision\n",
    "physics_df['Decision'] = physics_df['Accept_or_reject']\n",
    "physics_df.Decision = physics_df.Decision.replace('Accepted', 1).replace(['Rejected', 'Wait listed', 'Other', 'Interview'], 0)\n",
    "\n",
    "# GPA column\n",
    "physics_df.GPA = physics_df.GPA.replace(' ', np.NaN)\n",
    "physics_df.GPA = physics_df.GPA.apply(lambda x: float(x))\n",
    "\n",
    "# Drop NaNs\n",
    "physics_df = physics_df.dropna(subset=['Accept_or_reject', 'GPA', 'GRE_Verbal', 'GRE_Quantitative', 'GRE_Writing', 'GRE_Subject']).reset_index(drop=True)\n",
    "\n",
    "# Filters\n",
    "physics_df = physics_df[physics_df['GPA'] <= 4] # Filter GPA\n",
    "physics_df = physics_df[physics_df['GRE_Verbal'] <= 170] # Filter GRE Verbal\n",
    "physics_df = physics_df[physics_df['GRE_Verbal'] >= 130]\n",
    "physics_df = physics_df[physics_df['GRE_Quantitative'] <= 170] # Filter GRE Verbal\n",
    "physics_df = physics_df[physics_df['GRE_Quantitative'] >= 130] \n",
    "physics_df = physics_df[physics_df['GRE_Writing'] <= 5] # Filter Writing\n",
    "physics_df = physics_df[physics_df['GRE_Writing'] > 1] # Filter Writing\n",
    "physics_df = physics_df[physics_df['GRE_Subject'] >= 400] # Filter GRE Subject\n",
    "\n",
    "# Fall semester only\n",
    "physics_df = physics_df[physics_df['Degree_type_and_admission_semester'].isin(['PhD (F19)', 'PhD (F18)', 'PhD (F17)', 'PhD (F16)', 'PhD (F15)', 'PhD (F14)', 'PhD (F13)'])]"
   ]
  },
  {
   "cell_type": "code",
   "execution_count": 4,
   "metadata": {},
   "outputs": [],
   "source": [
    "physics_df.to_csv('Data/physics_df.csv') # Save point"
   ]
  }
 ],
 "metadata": {
  "kernelspec": {
   "display_name": "Python 3",
   "language": "python",
   "name": "python3"
  },
  "language_info": {
   "codemirror_mode": {
    "name": "ipython",
    "version": 3
   },
   "file_extension": ".py",
   "mimetype": "text/x-python",
   "name": "python",
   "nbconvert_exporter": "python",
   "pygments_lexer": "ipython3",
   "version": "3.6.8"
  }
 },
 "nbformat": 4,
 "nbformat_minor": 2
}
