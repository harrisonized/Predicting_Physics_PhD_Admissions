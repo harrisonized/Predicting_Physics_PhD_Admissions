{
 "cells": [
  {
   "cell_type": "code",
   "execution_count": 1,
   "metadata": {},
   "outputs": [],
   "source": [
    "import numpy as np\n",
    "import pandas as pd\n",
    "import matplotlib.pyplot as plt\n",
    "import seaborn as sns\n",
    "import math\n",
    "from collections import Counter\n",
    "import warnings # Turn off warnings\n",
    "warnings.filterwarnings('ignore')"
   ]
  },
  {
   "cell_type": "code",
   "execution_count": 2,
   "metadata": {},
   "outputs": [],
   "source": [
    "# Import\n",
    "physics_df = pd.read_csv(\"gradcafe-admissions-data/physics.csv\", names = ['Institution', 'Subject', 'Degree type and admission semester', 'Accept or reject', 'Method of communication', 'Date', 'GPA', 'GRE Verbal', 'GRE Quantitative', 'GRE Writing', 'GRE Subject', 'Student classification', 'Date posted', 'Comments'], encoding='latin1')"
   ]
  },
  {
   "cell_type": "code",
   "execution_count": 3,
   "metadata": {},
   "outputs": [],
   "source": [
    "#Formatting\n",
    "physics_df.columns = physics_df.columns.str.replace(' ', '_')\n",
    "\n",
    "# Add American as a one-hot-encoded feature\n",
    "physics_df['American'] = physics_df['Student_classification']\n",
    "physics_df.American = physics_df.American.replace('A', 1).replace(['U', 'I', 'O'], 0)\n",
    "physics_df = physics_df.dropna(subset=['American'])\n",
    "\n",
    "# Add Papers as feature\n",
    "physics_df['Papers'] = physics_df['Comments'].str.contains('(?<!no) [Pp]ub|(?<!no) [Pp]aper', regex=True)\n",
    "physics_df.Papers = physics_df.Papers.replace(True, 1).replace(False, 0).fillna(value=0)\n",
    "\n",
    "# Add RI as feature\n",
    "physics_df['Research'] = physics_df['Comments'].str.contains('(?<!no) [Rr]esearch', regex=True)\n",
    "physics_df.Research = physics_df.Research.replace(True, 1).replace(False, 0).fillna(value=0)\n",
    "\n",
    "# Create categorical decision\n",
    "physics_df['Decision'] = physics_df['Accept_or_reject']\n",
    "physics_df.Decision = physics_df.Decision.replace('Accepted', 1).replace(['Rejected', 'Wait listed', 'Other', 'Interview'], 0)\n",
    "\n",
    "# GPA column\n",
    "physics_df.GPA = physics_df.GPA.replace(' ', np.NaN)\n",
    "physics_df.GPA = physics_df.GPA.apply(lambda x: float(x))\n",
    "\n",
    "# Drop NaNs\n",
    "physics_df = physics_df.dropna(subset=['Accept_or_reject', 'GPA', 'GRE_Verbal', 'GRE_Quantitative', 'GRE_Writing', 'GRE_Subject']).reset_index(drop=True)\n",
    "\n",
    "# Filters\n",
    "physics_df = physics_df[physics_df['GPA'] <= 4] # Filter GPA\n",
    "physics_df = physics_df[physics_df['GRE_Verbal'] <= 170] # Filter GRE Verbal\n",
    "physics_df = physics_df[physics_df['GRE_Verbal'] >= 130]\n",
    "physics_df = physics_df[physics_df['GRE_Quantitative'] <= 170] # Filter GRE Verbal\n",
    "physics_df = physics_df[physics_df['GRE_Quantitative'] >= 130] \n",
    "physics_df = physics_df[physics_df['GRE_Writing'] <= 5] # Filter Writing\n",
    "physics_df = physics_df[physics_df['GRE_Writing'] > 1] # Filter Writing\n",
    "physics_df = physics_df[physics_df['GRE_Subject'] >= 400] # Filter GRE Subject"
   ]
  },
  {
   "cell_type": "code",
   "execution_count": 4,
   "metadata": {},
   "outputs": [
    {
     "data": {
      "text/plain": [
       "4934"
      ]
     },
     "execution_count": 4,
     "metadata": {},
     "output_type": "execute_result"
    }
   ],
   "source": [
    "len(physics_df)"
   ]
  },
  {
   "cell_type": "code",
   "execution_count": 5,
   "metadata": {},
   "outputs": [],
   "source": [
    "year_list = [2012, 2013, 2014, 2015, 2016, 2017, 2018, 2019]\n",
    "count_array = physics_df[physics_df['Degree_type_and_admission_semester'] \\\n",
    "           .isin(['PhD (F19)', 'PhD (F18)', 'PhD (F17)',\n",
    "                  'PhD (F16)', 'PhD (F15)', 'PhD (F14)',\n",
    "                  'PhD (F13)', 'PhD (F12)'])] \\\n",
    "        ['Degree_type_and_admission_semester'] \\\n",
    "        .value_counts().sort_index(ascending=True).values"
   ]
  },
  {
   "cell_type": "code",
   "execution_count": 10,
   "metadata": {},
   "outputs": [
    {
     "data": {
      "image/png": "[encoded data removed]",
      "text/plain": [
       "<Figure size 480x320 with 1 Axes>"
      ]
     },
     "metadata": {
      "needs_background": "light"
     },
     "output_type": "display_data"
    }
   ],
   "source": [
    "# Number of entries per year\n",
    "plt.figure(dpi=80)\n",
    "plt.plot(year_list, count_array)\n",
    "plt.ylim(0, 1000)\n",
    "plt.xlabel('Year', fontsize=12)\n",
    "plt.ylabel('Number of Entries', fontsize=12)\n",
    "plt.title('Number of Entries by Year', fontsize=16)\n",
    "plt.savefig('figures/number-of-entries-by-year')"
   ]
  },
  {
   "cell_type": "code",
   "execution_count": 7,
   "metadata": {},
   "outputs": [],
   "source": [
    "# Filter on year\n",
    "physics_df = physics_df[physics_df['Degree_type_and_admission_semester'].isin(['PhD (F19)', 'PhD (F18)', 'PhD (F17)', 'PhD (F16)', 'PhD (F15)', 'PhD (F14)'])]"
   ]
  },
  {
   "cell_type": "code",
   "execution_count": 9,
   "metadata": {},
   "outputs": [],
   "source": [
    "physics_df.to_csv('data/physics-df.csv') # Save point"
   ]
  },
  {
   "cell_type": "code",
   "execution_count": null,
   "metadata": {},
   "outputs": [],
   "source": []
  }
 ],
 "metadata": {
  "kernelspec": {
   "display_name": "Python 3",
   "language": "python",
   "name": "python3"
  },
  "language_info": {
   "codemirror_mode": {
    "name": "ipython",
    "version": 3
   },
   "file_extension": ".py",
   "mimetype": "text/x-python",
   "name": "python",
   "nbconvert_exporter": "python",
   "pygments_lexer": "ipython3",
   "version": "3.6.8"
  }
 },
 "nbformat": 4,
 "nbformat_minor": 2
}
